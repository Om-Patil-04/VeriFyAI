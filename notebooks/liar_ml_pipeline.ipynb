{
  "cells": [
    {
      "cell_type": "code",
      "execution_count": 14,
      "metadata": {
        "id": "nBkye2xAKYfZ"
      },
      "outputs": [],
      "source": [
        "import pandas as pd\n",
        "import numpy as np\n",
        "\n",
        "train_df = pd.read_csv('train_liar.csv')\n",
        "val_df = pd.read_csv('val_liar.csv')\n",
        "test_df = pd.read_csv('test_liar.csv')"
      ]
    },
    {
      "cell_type": "code",
      "execution_count": 9,
      "metadata": {
        "colab": {
          "base_uri": "https://localhost:8080/"
        },
        "id": "ja8BXvA4VUXX",
        "outputId": "86b062fa-3e41-409f-eb9d-f07afd73df75"
      },
      "outputs": [
        {
          "output_type": "execute_result",
          "data": {
            "text/plain": [
              "Index(['id', 'label', 'statement', 'subject', 'speaker', 'speaker_job_title',\n",
              "       'state_info', 'party_affiliation', 'barely_true_counts', 'false_counts',\n",
              "       'half_true_counts', 'mostly_true_counts', 'pants_on_fire_counts',\n",
              "       'context', 'statement_len', 'polarity', 'subjectivity', 'label_num'],\n",
              "      dtype='object')"
            ]
          },
          "metadata": {},
          "execution_count": 9
        }
      ],
      "source": [
        "train_df.columns"
      ]
    },
    {
      "cell_type": "code",
      "execution_count": 10,
      "metadata": {
        "colab": {
          "base_uri": "https://localhost:8080/"
        },
        "id": "7RRisUU1UYZf",
        "outputId": "45f231d6-0699-4284-c7bc-fd7a632cc961"
      },
      "outputs": [
        {
          "output_type": "stream",
          "name": "stdout",
          "text": [
            "All datasets have the same columns in the correct order\n"
          ]
        }
      ],
      "source": [
        "if np.array_equal(train_df.columns, val_df.columns) and np.array_equal(val_df.columns, test_df.columns):\n",
        "    print(\"All datasets have the same columns in the correct order\")\n",
        "else:\n",
        "    print(\"Column mismatch detected\")\n"
      ]
    },
    {
      "cell_type": "code",
      "execution_count": 11,
      "metadata": {
        "id": "NJ7pUfWUWv-G"
      },
      "outputs": [],
      "source": [
        "text_feature = 'statement'\n",
        "\n",
        "numeric_features = [\n",
        "    'statement_len', 'polarity', 'subjectivity',\n",
        "    'barely_true_counts', 'false_counts', 'half_true_counts',\n",
        "    'mostly_true_counts', 'pants_on_fire_counts'\n",
        "]\n",
        "\n",
        "categorical_features = [\n",
        "    'subject', 'speaker', 'speaker_job_title',\n",
        "    'state_info', 'party_affiliation', 'context'\n",
        "]\n",
        "\n",
        "target = 'label_num'"
      ]
    },
    {
      "cell_type": "code",
      "execution_count": 12,
      "metadata": {
        "id": "G9a5reh2W0Sn"
      },
      "outputs": [],
      "source": [
        "X = train_df[[text_feature] + numeric_features + categorical_features]\n",
        "y = train_df[target]"
      ]
    },
    {
      "cell_type": "code",
      "source": [
        "from sklearn.model_selection import train_test_split, RandomizedSearchCV\n",
        "from sklearn.impute import SimpleImputer\n",
        "from sklearn.preprocessing import StandardScaler, OneHotEncoder\n",
        "from sklearn.feature_extraction.text import TfidfVectorizer\n",
        "from sklearn.compose import ColumnTransformer\n",
        "from sklearn.pipeline import make_pipeline\n",
        "from sklearn.ensemble import RandomForestClassifier\n",
        "from sklearn.metrics import classification_report\n",
        "from scipy.stats import randint"
      ],
      "metadata": {
        "id": "-Ky4q2qmerw3"
      },
      "execution_count": 15,
      "outputs": []
    },
    {
      "cell_type": "code",
      "source": [
        "text_transformer = TfidfVectorizer(max_features=1000, stop_words='english')\n",
        "\n",
        "num_transformer = make_pipeline(\n",
        "    SimpleImputer(strategy='mean'),\n",
        "    StandardScaler()\n",
        ")\n",
        "\n",
        "cat_transformer = make_pipeline(\n",
        "    SimpleImputer(strategy='most_frequent'),\n",
        "    OneHotEncoder(handle_unknown='ignore', sparse_output=False)\n",
        ")\n",
        "\n",
        "preprocessor = ColumnTransformer(transformers=[\n",
        "    ('text', text_transformer, text_feature),\n",
        "    ('num', num_transformer, numeric_features),\n",
        "    ('cat', cat_transformer, categorical_features)\n",
        "])\n",
        "\n",
        "X_train, X_test, y_train, y_test = train_test_split(\n",
        "    X, y, test_size=0.2, random_state=42\n",
        ")\n",
        "\n",
        "pipeline = make_pipeline(\n",
        "    preprocessor,\n",
        "    RandomForestClassifier(n_jobs=-1, random_state=42)\n",
        ")\n",
        "pipeline.set_params(memory='cache_dir')\n",
        "\n",
        "param_grid = {\n",
        "    'randomforestclassifier__n_estimators': randint(50, 200),\n",
        "    'randomforestclassifier__max_depth': [None, 10, 20, 30],\n",
        "    'randomforestclassifier__min_samples_split': [2, 5, 10],\n",
        "    'randomforestclassifier__min_samples_leaf': [1, 2, 4]\n",
        "}\n",
        "\n",
        "search = RandomizedSearchCV(\n",
        "    pipeline,\n",
        "    param_distributions=param_grid,\n",
        "    n_iter=5,\n",
        "    cv=2,\n",
        "    scoring='f1_weighted',\n",
        "    verbose=2,\n",
        "    n_jobs=-1\n",
        ")\n",
        "\n",
        "search.fit(X_train, y_train)\n",
        "\n",
        "y_pred = search.best_estimator_.predict(X_test)\n",
        "print(\"\\nBest Parameters:\\n\", search.best_params_)\n",
        "print(\"\\nClassification Report:\\n\", classification_report(y_test, y_pred))"
      ],
      "metadata": {
        "colab": {
          "base_uri": "https://localhost:8080/"
        },
        "id": "9e1hIPG9d09f",
        "outputId": "cfe4b531-8bf5-4cc7-b834-208082e71a14"
      },
      "execution_count": 16,
      "outputs": [
        {
          "output_type": "stream",
          "name": "stdout",
          "text": [
            "Fitting 2 folds for each of 5 candidates, totalling 10 fits\n",
            "\n",
            "Best Parameters:\n",
            " {'randomforestclassifier__max_depth': None, 'randomforestclassifier__min_samples_leaf': 4, 'randomforestclassifier__min_samples_split': 10, 'randomforestclassifier__n_estimators': 139}\n",
            "\n",
            "Classification Report:\n",
            "               precision    recall  f1-score   support\n",
            "\n",
            "           0       0.53      0.22      0.31       148\n",
            "           1       0.41      0.61      0.49       401\n",
            "           2       0.65      0.25      0.36       339\n",
            "           3       0.36      0.57      0.44       438\n",
            "           4       0.44      0.52      0.48       382\n",
            "           5       0.68      0.23      0.34       340\n",
            "\n",
            "    accuracy                           0.43      2048\n",
            "   macro avg       0.51      0.40      0.40      2048\n",
            "weighted avg       0.50      0.43      0.42      2048\n",
            "\n"
          ]
        }
      ]
    },
    {
      "cell_type": "code",
      "source": [
        "y_pred = search.best_estimator_.predict(X_test)\n",
        "print(\"\\nBest Parameters:\\n\", search.best_params_)\n",
        "print(\"\\nClassification Report:\\n\", classification_report(y_test, y_pred))"
      ],
      "metadata": {
        "colab": {
          "base_uri": "https://localhost:8080/"
        },
        "id": "75klqtUYex6X",
        "outputId": "11ddd4c3-31ef-4f0d-d4c2-3dff1eb35996"
      },
      "execution_count": 17,
      "outputs": [
        {
          "output_type": "stream",
          "name": "stdout",
          "text": [
            "\n",
            "Best Parameters:\n",
            " {'randomforestclassifier__max_depth': None, 'randomforestclassifier__min_samples_leaf': 4, 'randomforestclassifier__min_samples_split': 10, 'randomforestclassifier__n_estimators': 139}\n",
            "\n",
            "Classification Report:\n",
            "               precision    recall  f1-score   support\n",
            "\n",
            "           0       0.53      0.22      0.31       148\n",
            "           1       0.41      0.61      0.49       401\n",
            "           2       0.65      0.25      0.36       339\n",
            "           3       0.36      0.57      0.44       438\n",
            "           4       0.44      0.52      0.48       382\n",
            "           5       0.68      0.23      0.34       340\n",
            "\n",
            "    accuracy                           0.43      2048\n",
            "   macro avg       0.51      0.40      0.40      2048\n",
            "weighted avg       0.50      0.43      0.42      2048\n",
            "\n"
          ]
        }
      ]
    }
  ],
  "metadata": {
    "colab": {
      "provenance": []
    },
    "kernelspec": {
      "display_name": "Python 3",
      "name": "python3"
    },
    "language_info": {
      "name": "python"
    }
  },
  "nbformat": 4,
  "nbformat_minor": 0
}