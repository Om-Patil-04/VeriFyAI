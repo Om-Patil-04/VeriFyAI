{
  "cells": [
    {
      "cell_type": "code",
      "execution_count": 14,
      "metadata": {
        "id": "nBkye2xAKYfZ"
      },
      "outputs": [],
      "source": [
        "import pandas as pd\n",
        "import numpy as np\n",
        "\n",
        "train_df = pd.read_csv('train_liar.csv')\n",
        "val_df = pd.read_csv('val_liar.csv')\n",
        "test_df = pd.read_csv('test_liar.csv')"
      ]
    },
    {
      "cell_type": "code",
      "execution_count": 15,
      "metadata": {
        "colab": {
          "base_uri": "https://localhost:8080/"
        },
        "id": "ja8BXvA4VUXX",
        "outputId": "16b22129-e74a-4e39-b7be-61ef7d1de8b6"
      },
      "outputs": [
        {
          "output_type": "execute_result",
          "data": {
            "text/plain": [
              "Index(['id', 'label', 'statement', 'subject', 'speaker', 'speaker_job_title',\n",
              "       'state_info', 'party_affiliation', 'barely_true_counts', 'false_counts',\n",
              "       'half_true_counts', 'mostly_true_counts', 'pants_on_fire_counts',\n",
              "       'context', 'statement_len', 'polarity', 'subjectivity', 'label_num'],\n",
              "      dtype='object')"
            ]
          },
          "metadata": {},
          "execution_count": 15
        }
      ],
      "source": [
        "train_df.columns"
      ]
    },
    {
      "cell_type": "code",
      "execution_count": 16,
      "metadata": {
        "colab": {
          "base_uri": "https://localhost:8080/"
        },
        "id": "7RRisUU1UYZf",
        "outputId": "fb8f95c1-63a9-4969-dfb9-a62b56dc7be0"
      },
      "outputs": [
        {
          "output_type": "stream",
          "name": "stdout",
          "text": [
            "All datasets have the same columns in the correct order\n"
          ]
        }
      ],
      "source": [
        "if np.array_equal(train_df.columns, val_df.columns) and np.array_equal(val_df.columns, test_df.columns):\n",
        "    print(\"All datasets have the same columns in the correct order\")\n",
        "else:\n",
        "    print(\"Column mismatch detected\")\n"
      ]
    },
    {
      "cell_type": "code",
      "execution_count": 17,
      "metadata": {
        "id": "NJ7pUfWUWv-G"
      },
      "outputs": [],
      "source": [
        "text_feature = 'statement'\n",
        "\n",
        "numeric_features = [\n",
        "    'statement_len', 'polarity', 'subjectivity',\n",
        "    'barely_true_counts', 'false_counts', 'half_true_counts',\n",
        "    'mostly_true_counts', 'pants_on_fire_counts'\n",
        "]\n",
        "\n",
        "categorical_features = [\n",
        "    'subject', 'speaker', 'speaker_job_title',\n",
        "    'state_info', 'party_affiliation', 'context'\n",
        "]\n",
        "\n",
        "target = 'label_num'"
      ]
    },
    {
      "cell_type": "code",
      "execution_count": 18,
      "metadata": {
        "id": "G9a5reh2W0Sn"
      },
      "outputs": [],
      "source": [
        "X = train_df[[text_feature] + numeric_features + categorical_features]\n",
        "y = train_df[target]"
      ]
    },
    {
      "cell_type": "code",
      "source": [
        "from sklearn.model_selection import train_test_split, RandomizedSearchCV\n",
        "from sklearn.impute import SimpleImputer\n",
        "from sklearn.preprocessing import StandardScaler, OneHotEncoder\n",
        "from sklearn.feature_extraction.text import TfidfVectorizer\n",
        "from sklearn.compose import ColumnTransformer\n",
        "from sklearn.pipeline import Pipeline\n",
        "from sklearn.ensemble import HistGradientBoostingClassifier\n",
        "from sklearn.metrics import classification_report\n",
        "from scipy.stats import randint"
      ],
      "metadata": {
        "id": "bG3mzu3oAFBN"
      },
      "execution_count": 19,
      "outputs": []
    },
    {
      "cell_type": "code",
      "source": [
        "X = train_df[[text_feature] + numeric_features + categorical_features]\n",
        "y = train_df[target]\n",
        "\n",
        "X_train, X_test, y_train, y_test = train_test_split(X, y, test_size=0.2, random_state=42)\n",
        "\n",
        "\n",
        "num_transformer = Pipeline(steps=[\n",
        "    ('imputer', SimpleImputer(strategy='mean')),\n",
        "    ('scaler', StandardScaler())\n",
        "])\n",
        "\n",
        "cat_transformer = Pipeline(steps=[\n",
        "    ('imputer', SimpleImputer(strategy='most_frequent')),\n",
        "    ('encoder', OneHotEncoder(handle_unknown='ignore', sparse_output=False))\n",
        "])\n",
        "\n",
        "text_transformer = TfidfVectorizer(max_features=5000)\n",
        "\n",
        "\n",
        "preprocessor = ColumnTransformer(transformers=[\n",
        "    ('text', text_transformer, text_feature),\n",
        "    ('num', num_transformer, numeric_features),\n",
        "    ('cat', cat_transformer, categorical_features)\n",
        "])\n",
        "\n",
        "\n",
        "pipeline = Pipeline(steps=[\n",
        "    ('preprocess', preprocessor),\n",
        "    ('clf', HistGradientBoostingClassifier())\n",
        "])\n",
        "\n",
        "\n",
        "param_grid = {\n",
        "    'clf__max_iter': randint(100, 1000),\n",
        "    'clf__learning_rate': [0.01, 0.05, 0.1, 0.2],\n",
        "    'clf__max_leaf_nodes': [15, 31, 63, 127],\n",
        "    'clf__max_depth': [3, 5, 7, None],\n",
        "    'clf__l2_regularization': [0.0, 0.1, 1.0],\n",
        "}\n",
        "\n",
        "\n",
        "search = RandomizedSearchCV(\n",
        "    pipeline,\n",
        "    param_distributions=param_grid,\n",
        "    n_iter=20,\n",
        "    scoring='f1_weighted',\n",
        "    cv=3,\n",
        "    verbose=2,\n",
        "    n_jobs=-1\n",
        ")\n",
        "\n",
        "search.fit(X_train, y_train)\n",
        "\n",
        "\n",
        "best_model = search.best_estimator_\n",
        "y_pred = best_model.predict(X_test)\n",
        "\n",
        "print(\"\\nBest Hyperparameters:\\n\", search.best_params_)\n",
        "print(\"\\nClassification Report:\\n\", classification_report(y_test, y_pred))"
      ],
      "metadata": {
        "colab": {
          "base_uri": "https://localhost:8080/"
        },
        "id": "Nhf0ZtegAZLk",
        "outputId": "c7c10ae2-070e-4459-b582-633c968963da"
      },
      "execution_count": null,
      "outputs": [
        {
          "output_type": "stream",
          "name": "stdout",
          "text": [
            "Fitting 3 folds for each of 20 candidates, totalling 60 fits\n"
          ]
        }
      ]
    }
  ],
  "metadata": {
    "colab": {
      "provenance": []
    },
    "kernelspec": {
      "display_name": "Python 3",
      "name": "python3"
    },
    "language_info": {
      "name": "python"
    }
  },
  "nbformat": 4,
  "nbformat_minor": 0
}